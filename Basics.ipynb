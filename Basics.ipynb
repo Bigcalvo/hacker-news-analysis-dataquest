{
 "cells": [
  {
   "cell_type": "markdown",
   "metadata": {
    "collapsed": true
   },
   "source": [
    "# Exploring Hacker News Posts\n",
    "\n",
    "This project will seek to shed light on **Ask HN** and **Show HN** posts, specifically looking at which post type receives more comments and do posts created at certain times receive more comments on average. For some additional context, Hacker News is a site where users can submit posts/stories, and community members can vote and comment on them (not unlike Reddit). **Ask HN** posts pose a question to the community. **Show HN** posts share a product, project or an interesting tidbit. \n",
    "\n",
    "That data has been pulled from Kaggle. The data that I'll be examining has been reduced from 300,000 rows to ~20,000 (by removing submissions that did not receive and commments). Let's dive in by looking at the first few rows and removing the header row from our dataset."
   ]
  },
  {
   "cell_type": "code",
   "execution_count": 1,
   "metadata": {},
   "outputs": [
    {
     "name": "stdout",
     "output_type": "stream",
     "text": [
      "['id', 'title', 'url', 'num_points', 'num_comments', 'author', 'created_at']\n",
      "\n",
      "\n",
      "['12224879', 'Interactive Dynamic Video', 'http://www.interactivedynamicvideo.com/', '386', '52', 'ne0phyte', '8/4/2016 11:52']\n",
      "\n",
      "\n",
      "['10975351', 'How to Use Open Source and Shut the Fuck Up at the Same Time', 'http://hueniverse.com/2016/01/26/how-to-use-open-source-and-shut-the-fuck-up-at-the-same-time/', '39', '10', 'josep2', '1/26/2016 19:30']\n",
      "\n",
      "\n",
      "['11964716', \"Florida DJs May Face Felony for April Fools' Water Joke\", 'http://www.thewire.com/entertainment/2013/04/florida-djs-april-fools-water-joke/63798/', '2', '1', 'vezycash', '6/23/2016 22:20']\n",
      "\n",
      "\n",
      "['11919867', 'Technology ventures: From Idea to Enterprise', 'https://www.amazon.com/Technology-Ventures-Enterprise-Thomas-Byers/dp/0073523429', '3', '1', 'hswarna', '6/17/2016 0:01']\n",
      "\n",
      "\n"
     ]
    }
   ],
   "source": [
    "#Read the file\n",
    "from csv import reader\n",
    "opened = open('hacker_news.csv')\n",
    "read = reader(opened)\n",
    "hn = list(read)\n",
    "\n",
    "#Display 1st 5 rows \n",
    "for row in hn[:5]:\n",
    "    print(row)\n",
    "    print('\\n')"
   ]
  },
  {
   "cell_type": "markdown",
   "metadata": {},
   "source": [
    "### Column definitions\n",
    "`id`: The unique identifier from Hacker News for the post\n",
    "\n",
    "`title`: The title of the post\n",
    "\n",
    "`url`: The URL that the posts links to, if the post has a URL\n",
    "\n",
    "`num_points`: The number of points the post acquired, calculated as the total number of upvotes minus the total number of downvotes\n",
    "\n",
    "`num_comments`: The number of comments that were made on the post\n",
    "\n",
    "`author`: The username of the person who submitted the post\n",
    "\n",
    "`created_at`: The date and time at which the post was submitted"
   ]
  },
  {
   "cell_type": "code",
   "execution_count": 2,
   "metadata": {
    "scrolled": true
   },
   "outputs": [
    {
     "name": "stdout",
     "output_type": "stream",
     "text": [
      "This is the header row:\n",
      "['id', 'title', 'url', 'num_points', 'num_comments', 'author', 'created_at']\n"
     ]
    }
   ],
   "source": [
    "#Extract the 1st row (header)\n",
    "headers = hn[0]\n",
    "hn = hn[1:]\n",
    "\n",
    "print('This is the header row:')\n",
    "print(headers)"
   ]
  },
  {
   "cell_type": "code",
   "execution_count": 3,
   "metadata": {},
   "outputs": [
    {
     "name": "stdout",
     "output_type": "stream",
     "text": [
      "New first 5 rows of variable hn:\n",
      "['12224879', 'Interactive Dynamic Video', 'http://www.interactivedynamicvideo.com/', '386', '52', 'ne0phyte', '8/4/2016 11:52']\n",
      "\n",
      "\n",
      "['10975351', 'How to Use Open Source and Shut the Fuck Up at the Same Time', 'http://hueniverse.com/2016/01/26/how-to-use-open-source-and-shut-the-fuck-up-at-the-same-time/', '39', '10', 'josep2', '1/26/2016 19:30']\n",
      "\n",
      "\n",
      "['11964716', \"Florida DJs May Face Felony for April Fools' Water Joke\", 'http://www.thewire.com/entertainment/2013/04/florida-djs-april-fools-water-joke/63798/', '2', '1', 'vezycash', '6/23/2016 22:20']\n",
      "\n",
      "\n",
      "['11919867', 'Technology ventures: From Idea to Enterprise', 'https://www.amazon.com/Technology-Ventures-Enterprise-Thomas-Byers/dp/0073523429', '3', '1', 'hswarna', '6/17/2016 0:01']\n",
      "\n",
      "\n",
      "['10301696', 'Note by Note: The Making of Steinway L1037 (2007)', 'http://www.nytimes.com/2007/11/07/movies/07stein.html?_r=0', '8', '2', 'walterbell', '9/30/2015 4:12']\n",
      "\n",
      "\n"
     ]
    }
   ],
   "source": [
    "#Display 1st 5 rows w/ header removed\n",
    "print('New first 5 rows of variable hn:')\n",
    "for row in hn[:5]:\n",
    "    print(row)\n",
    "    print('\\n')"
   ]
  },
  {
   "cell_type": "markdown",
   "metadata": {},
   "source": [
    "### Organizing our data\n",
    "Next up, we'll create three new lists of lists containing each of the different post types. This should make it easier to analyze things in the long run."
   ]
  },
  {
   "cell_type": "code",
   "execution_count": 4,
   "metadata": {},
   "outputs": [
    {
     "name": "stdout",
     "output_type": "stream",
     "text": [
      "# of 'Ask' posts: 1744\n",
      "# of 'Show' posts: 1162\n",
      "# of all other posts: 17194\n"
     ]
    }
   ],
   "source": [
    "#Putting different post types into separate lists\n",
    "ask_posts = []\n",
    "show_posts = []\n",
    "other_posts = []\n",
    "\n",
    "for row in hn:\n",
    "    title = row[1]\n",
    "    if title.lower().startswith('ask hn'):\n",
    "        ask_posts.append(row)\n",
    "    elif title.lower().startswith('show hn'):\n",
    "        show_posts.append(row)\n",
    "    else:\n",
    "        other_posts.append(row)\n",
    "\n",
    "print(\"# of 'Ask' posts:\", str(len(ask_posts)))\n",
    "print(\"# of 'Show' posts:\", str(len(show_posts)))\n",
    "print(\"# of all other posts:\", str(len(other_posts)))\n",
    "    "
   ]
  },
  {
   "cell_type": "code",
   "execution_count": 5,
   "metadata": {
    "scrolled": true
   },
   "outputs": [
    {
     "name": "stdout",
     "output_type": "stream",
     "text": [
      "[['12296411', 'Ask HN: How to improve my personal website?', '', '2', '6', 'ahmedbaracat', '8/16/2016 9:55'], ['10610020', 'Ask HN: Am I the only one outraged by Twitter shutting down share counts?', '', '28', '29', 'tkfx', '11/22/2015 13:43'], ['11610310', 'Ask HN: Aby recent changes to CSS that broke mobile?', '', '1', '1', 'polskibus', '5/2/2016 10:14'], ['12210105', 'Ask HN: Looking for Employee #3 How do I do it?', '', '1', '3', 'sph130', '8/2/2016 14:20'], ['10394168', 'Ask HN: Someone offered to buy my browser extension from me. What now?', '', '28', '17', 'roykolak', '10/15/2015 16:38']]\n"
     ]
    }
   ],
   "source": [
    "#Display 1st 5 rows of Ask posts:\n",
    "print(ask_posts[:5])"
   ]
  },
  {
   "cell_type": "code",
   "execution_count": 17,
   "metadata": {},
   "outputs": [
    {
     "name": "stdout",
     "output_type": "stream",
     "text": [
      "[['10627194', 'Show HN: Wio Link  ESP8266 Based Web of Things Hardware Development Platform', 'https://iot.seeed.cc', '26', '22', 'kfihihc', '11/25/2015 14:03'], ['10646440', 'Show HN: Something pointless I made', 'http://dn.ht/picklecat/', '747', '102', 'dhotson', '11/29/2015 22:46'], ['11590768', 'Show HN: Shanhu.io, a programming playground powered by e8vm', 'https://shanhu.io', '1', '1', 'h8liu', '4/28/2016 18:05'], ['12178806', 'Show HN: Webscope  Easy way for web developers to communicate with Clients', 'http://webscopeapp.com', '3', '3', 'fastbrick', '7/28/2016 7:11'], ['10872799', 'Show HN: GeoScreenshot  Easily test Geo-IP based web pages', 'https://www.geoscreenshot.com/', '1', '9', 'kpsychwave', '1/9/2016 20:45']]\n"
     ]
    }
   ],
   "source": [
    "#Display 1st 5 rows of Show posts:\n",
    "print(show_posts[:5])"
   ]
  },
  {
   "cell_type": "markdown",
   "metadata": {},
   "source": [
    "Now that we've cleaned our data and segemented it into different lists, we're ready to extract some insights. The following function will allow us to compute averages given a specific column index."
   ]
  },
  {
   "cell_type": "code",
   "execution_count": 7,
   "metadata": {},
   "outputs": [],
   "source": [
    "#Define function for computing average in a given column\n",
    "def column_avg(a_list,column_index):\n",
    "    total = 0\n",
    "    for row in a_list:\n",
    "        row_total = int(row[column_index])\n",
    "        total += row_total\n",
    "    \n",
    "    avg = round(total / len(a_list),2)\n",
    "    return print(\"Average # per post: {}\".format(str(avg)))"
   ]
  },
  {
   "cell_type": "markdown",
   "metadata": {},
   "source": [
    "## Defining a function to extract column averages by hour\n",
    "The below function will be instrumental in helping us understand comment and point averages per hour for each kind of post."
   ]
  },
  {
   "cell_type": "code",
   "execution_count": 8,
   "metadata": {},
   "outputs": [],
   "source": [
    "#Import datetime module so that we can parse time data\n",
    "import datetime as dt\n",
    "\n",
    "#Define function that calculates a given column's average by hour\n",
    "def averages_by_hour(a_list,list_name,desired_column,metric_name):\n",
    "    \n",
    "    #Build list containing just CREATED_AT time and the total of the desired column\n",
    "    result_list = []\n",
    "    for row in a_list:\n",
    "        created_at = row[6]\n",
    "        row_total = int(row[desired_column])\n",
    "        result_list.append([created_at,row_total])\n",
    "        \n",
    "    #Create 2 dictionaries, one for 1 posts per hour, 1 for number of comments per hour\n",
    "    counts_by_hour = {}\n",
    "    column_total_by_hour = {}\n",
    "    for row in result_list:\n",
    "        created_at = dt.datetime.strptime(row[0],'%m/%d/%Y %H:%M')\n",
    "        row_total = row[1]\n",
    "        hour = created_at.strftime('%H')\n",
    "        if hour not in counts_by_hour:\n",
    "            counts_by_hour[hour] = 1\n",
    "            column_total_by_hour[hour] = row_total\n",
    "        if hour in counts_by_hour:\n",
    "            counts_by_hour[hour] += 1\n",
    "            column_total_by_hour[hour] += row_total\n",
    "\n",
    "    #Create new list of lists containing [hour, column_average]\n",
    "    avg_by_hour = []\n",
    "    for entry in column_total_by_hour:\n",
    "        avg_by_hour.append([entry,column_total_by_hour[entry]/counts_by_hour[entry]])\n",
    "\n",
    "    #Reformat each row in avg_by_hour by swapping columns\n",
    "    swap_avg_by_hour = []\n",
    "    for row in avg_by_hour:\n",
    "        swap_avg_by_hour.append([row[1],row[0]])\n",
    "        \n",
    "    #Sort swapped-columned data to highlight higher values\n",
    "    sorted_swap = sorted(swap_avg_by_hour,reverse=True)\n",
    "    \n",
    "    #Print string with findings\n",
    "    print(\"Top 5 Hours for {} {}:\".format(list_name,metric_name))\n",
    "    for row in sorted_swap[:5]:\n",
    "        hour = dt.datetime.strptime(row[1],'%H')\n",
    "    #Add -2 hours to convert to Mountain Standard time    \n",
    "        hour += dt.timedelta(hours=-2)\n",
    "        print('{}: {:.2f} average {} per post'.format(hour.strftime(\"%H:%M\"),row[0],metric_name.lower())) "
   ]
  },
  {
   "cell_type": "markdown",
   "metadata": {},
   "source": [
    "Now that we've defined the functions that we'll be using, let's get a sense for how many comments, on average, each kind of post gets.\n",
    "\n",
    "## Analyzing Comments\n",
    "### Which posts receive the most comments on average?"
   ]
  },
  {
   "cell_type": "code",
   "execution_count": 9,
   "metadata": {},
   "outputs": [
    {
     "name": "stdout",
     "output_type": "stream",
     "text": [
      "Average # per post: 14.04\n"
     ]
    }
   ],
   "source": [
    "#Computing Average number of comments per 'Ask' post\n",
    "column_avg(ask_posts,4)"
   ]
  },
  {
   "cell_type": "code",
   "execution_count": 10,
   "metadata": {
    "scrolled": true
   },
   "outputs": [
    {
     "name": "stdout",
     "output_type": "stream",
     "text": [
      "Average # per post: 10.32\n"
     ]
    }
   ],
   "source": [
    "#Computing Average number of comments per 'Show' post\n",
    "column_avg(show_posts,4)"
   ]
  },
  {
   "cell_type": "code",
   "execution_count": 11,
   "metadata": {},
   "outputs": [
    {
     "name": "stdout",
     "output_type": "stream",
     "text": [
      "Average # per post: 26.87\n"
     ]
    }
   ],
   "source": [
    "#Computing Average number of comments per 'Other' post\n",
    "column_avg(other_posts,4)"
   ]
  },
  {
   "cell_type": "markdown",
   "metadata": {},
   "source": [
    "On average, **Ask** posts have more comments, with ~14, compared to 10 for **Show** posts. While not a huge margin, it does make sense if we consider the nature of each kind of post; **Ask** posts interact directly with the community by explicitly requring feedback. Meanwhile, the Hacker News community can more passively engage with **Show** posts. \n",
    "\n",
    "However, **Ask** posts draw about half as much engagement as **Other** posts. **Other** posts make up about 85% of all posts, so the vast majority of posts extracted from the dataset. The investigation required to delve into this discrepancy is beyond the scope of this project, but I'd surmise that it's likely that people simply don't use proper post formatting, even though their post does fall into the **Ask HN** or **Show HN** buckets. It's also possible that most people are not looking for that direct engagement when they post, hence the lack of including the required words in the post title. "
   ]
  },
  {
   "cell_type": "markdown",
   "metadata": {},
   "source": [
    "### Analyzing when 'Ask' posts get comments"
   ]
  },
  {
   "cell_type": "code",
   "execution_count": 12,
   "metadata": {},
   "outputs": [
    {
     "name": "stdout",
     "output_type": "stream",
     "text": [
      "Top 5 Hours for 'Ask' Post Comments:\n",
      "13:00: 38.27 average comments per post\n",
      "00:00: 23.46 average comments per post\n",
      "18:00: 21.28 average comments per post\n",
      "14:00: 16.80 average comments per post\n",
      "19:00: 15.90 average comments per post\n"
     ]
    }
   ],
   "source": [
    "averages_by_hour(ask_posts,\"'Ask' Post\",4,'Comments')"
   ]
  },
  {
   "cell_type": "markdown",
   "metadata": {},
   "source": [
    "### Conclusion\n",
    "Midday looks like the best time to post if you want engagement. 1 pm garners almost double the amount of comments (on average) than the 2nd most commented time of 12 midnight. The fact that 12 midnight is the time with the 2nd highest level of engagement is interesting, and its explanation is beyond the scope of this project. I know that 'Techies' tend to be night owls, but this probably doesn't fully explain the phenomena. Midnight MST is around midday in China, and so it's feasible that posts are getting engagement from elsewhere in the world, apart from the Americas."
   ]
  },
  {
   "cell_type": "markdown",
   "metadata": {},
   "source": [
    "## Analyzing Points"
   ]
  },
  {
   "cell_type": "markdown",
   "metadata": {},
   "source": [
    "### Which posts receive more points on average?"
   ]
  },
  {
   "cell_type": "code",
   "execution_count": 13,
   "metadata": {
    "scrolled": true
   },
   "outputs": [
    {
     "name": "stdout",
     "output_type": "stream",
     "text": [
      "Average # per post: 15.06\n"
     ]
    }
   ],
   "source": [
    "#Computing Average number of POINTS per 'Ask' post\n",
    "column_avg(ask_posts,3)"
   ]
  },
  {
   "cell_type": "code",
   "execution_count": 14,
   "metadata": {
    "scrolled": false
   },
   "outputs": [
    {
     "name": "stdout",
     "output_type": "stream",
     "text": [
      "Average # per post: 27.56\n"
     ]
    }
   ],
   "source": [
    "#Computing Average number of POINTS per 'Show' post\n",
    "column_avg(show_posts,3)"
   ]
  },
  {
   "cell_type": "code",
   "execution_count": 15,
   "metadata": {
    "scrolled": false
   },
   "outputs": [
    {
     "name": "stdout",
     "output_type": "stream",
     "text": [
      "Average # per post: 55.41\n"
     ]
    }
   ],
   "source": [
    "#Computing Average number of POINTS per 'Other' post\n",
    "column_avg(other_posts,3)"
   ]
  },
  {
   "cell_type": "markdown",
   "metadata": {},
   "source": [
    "Despite the fact that on average, **Ask** posts receive more comments than **Show** posts, the opposite is true when it comes to points. **Show** posts outperform the former by almost double, though I'm not particularly surprised. It's important to think about what a point (upvote - downvote) means for each kind of post. For an **Ask** post, an upvote likely means that someone has a similar question and/or is also curious in the solution. This is a more specific set of criteria than what is likely used for **Show** posts. **Show** posts likely gain upvotes if readers are interested by the content. \n",
    "\n",
    "As with the last comparison, points for **Other** posts far surpass what we typically see for the other post types. "
   ]
  },
  {
   "cell_type": "markdown",
   "metadata": {},
   "source": [
    "### Analyzing when 'Ask' posts get points"
   ]
  },
  {
   "cell_type": "code",
   "execution_count": 16,
   "metadata": {},
   "outputs": [
    {
     "name": "stdout",
     "output_type": "stream",
     "text": [
      "Top 5 Hours for 'Ask' Post Points:\n",
      "13:00: 29.74 average points per post\n",
      "11:00: 24.30 average points per post\n",
      "14:00: 23.39 average points per post\n",
      "15:00: 19.24 average points per post\n",
      "08:00: 18.38 average points per post\n"
     ]
    }
   ],
   "source": [
    "averages_by_hour(ask_posts,\"'Ask' Post\",3,'Points')"
   ]
  },
  {
   "cell_type": "markdown",
   "metadata": {},
   "source": [
    "### Conclusion\n",
    "Nothing to surprising here. We see the most amount of comments near midday, when most folks are likely stepping away from work for lunchtime. Mid afternoon breaks also seem to influence upvoting/downvoting. Interestingly enough, 8 am Mountain time is the fifth most popular time for point assignage. It feasible that folks are doing some reading during breakfast.\n",
    "\n",
    "The top 5 hours in which **Ask** Posts receive points mirrors what we see for comment times -- that is, most of the action comes during the middle of the day Mountain time. 1 pm is the time that garners the most amount of points on average, similar to how comments are distributed. \n",
    "\n",
    "People also heavily comment in the afternoon heading into the evening, which also appears to be the case with upvoting. That said, people do not as heavily up/downvote in the evening. \n",
    "\n",
    "One glaring difference between the 2 'Top 5' lists is the Midnight hour. The midnight hour saw the 5th most comments, but hasn't generated nearly as many points. Perhaps we can chalk this up to the fact that these commenters, likely on the other side of the world, share something in common that for whatever reason leads them to vote on posts at a much lower rate. "
   ]
  }
 ],
 "metadata": {
  "kernelspec": {
   "display_name": "Python 3",
   "language": "python",
   "name": "python3"
  },
  "language_info": {
   "codemirror_mode": {
    "name": "ipython",
    "version": 3
   },
   "file_extension": ".py",
   "mimetype": "text/x-python",
   "name": "python",
   "nbconvert_exporter": "python",
   "pygments_lexer": "ipython3",
   "version": "3.8.2"
  }
 },
 "nbformat": 4,
 "nbformat_minor": 2
}
